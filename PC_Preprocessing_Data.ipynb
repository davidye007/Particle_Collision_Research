{
 "cells": [
  {
   "cell_type": "code",
   "execution_count": 1,
   "id": "4a88ddb0-87f6-4903-ba67-f175df041e55",
   "metadata": {},
   "outputs": [],
   "source": [
    "import numpy as np\n",
    "import pytorch_forecasting\n",
    "import torch\n",
    "import matplotlib.pyplot as plt\n",
    "from sklearn.preprocessing import MinMaxScaler\n",
    "import random\n",
    "import cv2\n",
    "import numpy as np\n",
    "from scipy import stats\n",
    "import seaborn as sns\n",
    "import seaborn as sns\n",
    "import pandas as pd\n",
    "from dataclasses import make_dataclass\n",
    "import pdb\n",
    "from processdata import load_data\n",
    "from processdata import TimeSeriesDataset\n",
    "import models\n",
    "import torch\n",
    "import scipy.io\n",
    "from sklearn.preprocessing import MinMaxScaler"
   ]
  },
  {
   "cell_type": "code",
   "execution_count": 23,
   "id": "7c460880-4f41-4b34-91e6-299995d9d0d5",
   "metadata": {},
   "outputs": [],
   "source": [
    "# fetch video\n",
    "vid = cv2.VideoCapture(\"Granular Brownian Motion Square.mp4\")\n",
    "# attempt to extract first frame\n",
    "success, frame = vid.read()\n",
    "# number of frames\n",
    "total_frame_count = int(vid.get(cv2.CAP_PROP_FRAME_COUNT))\n",
    "# create dataframe for storing particle center coordinates and frame number.\n",
    "# total frame count multiplied by maximum balls per frame\n",
    "df = pd.DataFrame(index=(range(total_frame_count*1000)), columns = ['x','y','r','frame'])\n",
    "# set counter to frame zero\n",
    "counter = 0;\n",
    "# set ball counter to zero\n",
    "ball_count = 0;\n",
    "# max frame count is 10\n",
    "max = 100000\n",
    "while (success and counter < max):\n",
    "  # print(counter)\n",
    "  # convert frame to greyscale\n",
    "  gray = cv2.cvtColor(frame, cv2.COLOR_BGR2GRAY)\n",
    "  # Blur using 3 * 3 kernel\n",
    "  gray_blurred = cv2.blur(gray, (3, 3))\n",
    "  # Apply Hough transform on blurred frame\n",
    "  detected_circles = cv2.HoughCircles(gray_blurred,cv2.HOUGH_GRADIENT, dp = 1, minDist = 8, param1 = 50,\n",
    "                                    param2 = 9, minRadius = 3, maxRadius = 5)\n",
    "  # Check if circle detected\n",
    "  if detected_circles is not None:\n",
    "    # Round circle parameters x, y and r to integers\n",
    "    detected_circles = np.uint16(np.around(detected_circles))\n",
    "    for circle in detected_circles[0, :]:\n",
    "       x, y, r = circle[0], circle[1], circle[2]\n",
    "       df.loc[ball_count] = [x, y, r, counter]\n",
    "       ball_count = ball_count + 1\n",
    "       # draw circumfrence of detected circle\n",
    "       # cv2.circle(frame, (np.uint16(np.around(x)), np.uint16(np.around(y))), r, (255, 0, 255), 2)\n",
    "       # draw center of detected circle (for verification)\n",
    "       # cv2.circle(frame, (x, y), radius = 1, color = (0, 0, 255), thickness = 2)\n",
    "  else:\n",
    "    print(\"no circles detected\")\n",
    "  # mark boundaries for random sensor location placewment with green box\n",
    "  # xlim (10,690) and ylim (10,710)\n",
    "  # cv2.line(frame, (10, 10), (690, 10), color = (0,255,0), thickness = 1)\n",
    "  # cv2.line(frame, (690, 10), (690, 710), color = (0,255,0), thickness = 1)\n",
    "  # cv2.line(frame, (10, 10), (10, 710), color = (0,255,0), thickness = 1)\n",
    "  # cv2.line(frame, (10, 710), (690, 710), color = (0,255,0), thickness = 1)\n",
    "  # show detected particles (for verification)\n",
    "  # plt.imshow(frame)\n",
    "  #cv2.imshow('image',frame)\n",
    "  # select next frame\n",
    "  success, frame = vid.read()\n",
    "  # update counter\n",
    "  counter = counter + 1\n",
    "  if (counter == max):\n",
    "      print('reached max frames')"
   ]
  },
  {
   "cell_type": "code",
   "execution_count": 111,
   "id": "5febb8b1",
   "metadata": {},
   "outputs": [],
   "source": [
    "# save ball locations for movie to csv for easy access\n",
    "df_all_balls = df.loc[0:ball_count-1]\n",
    "df_all_balls.to_csv(\"./particle_position_data.csv\", index= False)"
   ]
  },
  {
   "cell_type": "code",
   "execution_count": 103,
   "id": "21fa4ee5",
   "metadata": {},
   "outputs": [],
   "source": [
    "# estimate pdf at every 50th point in frame\n",
    "buffer = 50\n",
    "x_interval = range(0,np.int32(np.max(df_all_balls[\"x\"])),buffer)\n",
    "y_interval = range(0,np.int32(np.max(df_all_balls[\"y\"])),buffer)\n",
    "grid_length = len(x_interval)*len(y_interval)\n",
    "Q = np.zeros((total_frame_count, grid_length))\n",
    "for i in range(total_frame_count):\n",
    "    # print(i)\n",
    "    single_frame = df[df[\"frame\"] == i]\n",
    "    x = single_frame[\"x\"].astype(float)\n",
    "    y = single_frame[\"y\"].astype(float)\n",
    "    values = np.vstack((x.ravel(), y.ravel()))\n",
    "    kernel = stats.gaussian_kde(values, bw_method=0.2)\n",
    "    for j in x_interval:\n",
    "        for k in y_interval:\n",
    "            # print(int(j/buffer*len(y_interval)+k/buffer))\n",
    "            # print(\"pdf at: ({},{}) stored at: ({},{})\".format(j, k, i, int(j/buffer*len(y_interval)+k/buffer)))\n",
    "            Q[i,int(j/buffer*len(y_interval)+k/buffer)] = kernel.pdf((j,k))"
   ]
  },
  {
   "cell_type": "code",
   "execution_count": 105,
   "id": "65342164",
   "metadata": {},
   "outputs": [],
   "source": [
    "# save pdf grid measurements for as numpy array for easy access\n",
    "np.save('pdf_data.npy', Q)"
   ]
  }
 ],
 "metadata": {
  "kernelspec": {
   "display_name": "Python 3",
   "language": "python",
   "name": "python3"
  },
  "language_info": {
   "codemirror_mode": {
    "name": "ipython",
    "version": 3
   },
   "file_extension": ".py",
   "mimetype": "text/x-python",
   "name": "python",
   "nbconvert_exporter": "python",
   "pygments_lexer": "ipython3",
   "version": "3.8.8"
  }
 },
 "nbformat": 4,
 "nbformat_minor": 5
}
